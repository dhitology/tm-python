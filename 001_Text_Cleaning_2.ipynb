{
  "nbformat": 4,
  "nbformat_minor": 0,
  "metadata": {
    "colab": {
      "name": "001_Text_Preprocessing_2.ipynb",
      "provenance": [],
      "collapsed_sections": [],
      "toc_visible": true,
      "include_colab_link": true
    },
    "kernelspec": {
      "name": "python3",
      "display_name": "Python 3"
    }
  },
  "cells": [
    {
      "cell_type": "markdown",
      "metadata": {
        "id": "view-in-github",
        "colab_type": "text"
      },
      "source": [
        "<a href=\"https://colab.research.google.com/github/dhitology/tm-python/blob/master/001_Text_Preprocessing_2.ipynb\" target=\"_parent\"><img src=\"https://colab.research.google.com/assets/colab-badge.svg\" alt=\"Open In Colab\"/></a>"
      ]
    },
    {
      "cell_type": "markdown",
      "metadata": {
        "id": "iipKPhvLB3Pr",
        "colab_type": "text"
      },
      "source": [
        "# **Text Cleaning**"
      ]
    },
    {
      "cell_type": "code",
      "metadata": {
        "id": "tWKfwoFDSCHg",
        "colab_type": "code",
        "colab": {
          "base_uri": "https://localhost:8080/",
          "height": 285
        },
        "outputId": "5abdaee2-fd4d-46ef-ada5-12ad4131a86b"
      },
      "source": [
        "# Import Data\n",
        "import pandas as pd\n",
        "\n",
        "df = pd.read_csv('https://raw.githubusercontent.com/dhitology/temporary/master/from_indonesia.csv')\n",
        "df.head()"
      ],
      "execution_count": 86,
      "outputs": [
        {
          "output_type": "execute_result",
          "data": {
            "text/html": [
              "<div>\n",
              "<style scoped>\n",
              "    .dataframe tbody tr th:only-of-type {\n",
              "        vertical-align: middle;\n",
              "    }\n",
              "\n",
              "    .dataframe tbody tr th {\n",
              "        vertical-align: top;\n",
              "    }\n",
              "\n",
              "    .dataframe thead th {\n",
              "        text-align: right;\n",
              "    }\n",
              "</style>\n",
              "<table border=\"1\" class=\"dataframe\">\n",
              "  <thead>\n",
              "    <tr style=\"text-align: right;\">\n",
              "      <th></th>\n",
              "      <th>text</th>\n",
              "    </tr>\n",
              "  </thead>\n",
              "  <tbody>\n",
              "    <tr>\n",
              "      <th>0</th>\n",
              "      <td>There has now been two cases so far of Thais returning from The Philippines with #COVID19 out of 961 returnees. The top 5 for most infections among returnees are:\\r\\n\\r\\n1&lt;U+FE0F&gt;&lt;U+20E3&gt; Quwait 34 out of 174 returnees\\r\\n2&lt;U+FE0F&gt;&lt;U+20E3&gt; Saudi Arabia 28/274\\r\\n3&lt;U+FE0F&gt;&lt;U+20E3&gt; Indonesia 65/913\\r\\n4&lt;U+FE0F&gt;&lt;U+20E3&gt; Pakistan 13/196\\r\\n5&lt;U+FE0F&gt;&lt;U+20E3&gt; Kazakhstan 2/55 https://t.co/Mntup4xwHi</td>\n",
              "    </tr>\n",
              "    <tr>\n",
              "      <th>1</th>\n",
              "      <td>@LaTrioli @abcnews .Also, it has been a DISASTER for our regional and national security to ditch The Australia Network but no one seems to care.\\r\\nMy friends in Indonesia who grew up learning English from our ABC now only get free to air RUSSIAN language cartoons and RT News. That is not a \"saving\"</td>\n",
              "    </tr>\n",
              "    <tr>\n",
              "      <th>2</th>\n",
              "      <td>@jakpost try explaining actual impact w/ measurement of reach, impressions, audience engagement based on participants said to be from across indonesia, representing 13k islands. definitely more effective use of budget considering internet access already spreads evenly across the country.</td>\n",
              "    </tr>\n",
              "    <tr>\n",
              "      <th>3</th>\n",
              "      <td>To date, 90% of Gojek’s revenue still comes from Indonesia, according to Hian Goh, co-founder of Singapore-based venture capital firm Openspace \"</td>\n",
              "    </tr>\n",
              "    <tr>\n",
              "      <th>4</th>\n",
              "      <td>&lt;U+0001F30D&gt; Today’s the day that the amazing @GrBhamChambers team streams our first Global Trade Conference across the world from Chamber HQ. Join us &amp;amp; delegates from US,Russia, Canada,Nigeria,Indonesia,India, South Afria &amp;amp; more by emailing events@birmingham-chamber.com. #GlobalTrade2020 https://t.co/GniBzRZu4o</td>\n",
              "    </tr>\n",
              "  </tbody>\n",
              "</table>\n",
              "</div>"
            ],
            "text/plain": [
              "                                                                                                                                                                                                                                                                                                                                                                                                          text\n",
              "0  There has now been two cases so far of Thais returning from The Philippines with #COVID19 out of 961 returnees. The top 5 for most infections among returnees are:\\r\\n\\r\\n1<U+FE0F><U+20E3> Quwait 34 out of 174 returnees\\r\\n2<U+FE0F><U+20E3> Saudi Arabia 28/274\\r\\n3<U+FE0F><U+20E3> Indonesia 65/913\\r\\n4<U+FE0F><U+20E3> Pakistan 13/196\\r\\n5<U+FE0F><U+20E3> Kazakhstan 2/55 https://t.co/Mntup4xwHi\n",
              "1  @LaTrioli @abcnews .Also, it has been a DISASTER for our regional and national security to ditch The Australia Network but no one seems to care.\\r\\nMy friends in Indonesia who grew up learning English from our ABC now only get free to air RUSSIAN language cartoons and RT News. That is not a \"saving\"                                                                                               \n",
              "2  @jakpost try explaining actual impact w/ measurement of reach, impressions, audience engagement based on participants said to be from across indonesia, representing 13k islands. definitely more effective use of budget considering internet access already spreads evenly across the country.                                                                                                           \n",
              "3  To date, 90% of Gojek’s revenue still comes from Indonesia, according to Hian Goh, co-founder of Singapore-based venture capital firm Openspace \"                                                                                                                                                                                                                                                          \n",
              "4  <U+0001F30D> Today’s the day that the amazing @GrBhamChambers team streams our first Global Trade Conference across the world from Chamber HQ. Join us &amp; delegates from US,Russia, Canada,Nigeria,Indonesia,India, South Afria &amp; more by emailing events@birmingham-chamber.com. #GlobalTrade2020 https://t.co/GniBzRZu4o                                                                          "
            ]
          },
          "metadata": {
            "tags": []
          },
          "execution_count": 86
        }
      ]
    },
    {
      "cell_type": "markdown",
      "metadata": {
        "id": "HKWi-qGlbMue",
        "colab_type": "text"
      },
      "source": [
        "## Basic Cleaning"
      ]
    },
    {
      "cell_type": "code",
      "metadata": {
        "id": "ni1l0qW3SIRV",
        "colab_type": "code",
        "colab": {
          "base_uri": "https://localhost:8080/",
          "height": 423
        },
        "outputId": "06a1e9bc-9e08-4d27-ac8e-606efd3f05d7"
      },
      "source": [
        "# Create Text Cleaning Function using Regex\n",
        "import re\n",
        "\n",
        "def  clean_text(df, text_field, new_text_field_name):\n",
        "    df[new_text_field_name] = df[text_field].str.lower()\n",
        "    df[new_text_field_name] = df[new_text_field_name].apply(lambda elem: re.sub(r\"(@[A-Za-z0-9]+)|([^0-9A-Za-z \\t])|(\\w+:\\/\\/\\S+)|^rt|http.+?\", \"\", elem))  \n",
        "    # remove numbers\n",
        "    df[new_text_field_name] = df[new_text_field_name].apply(lambda elem: re.sub(r\"\\d+\", \"\", elem))\n",
        "    return df\n",
        "\n",
        "# Apply to the data\n",
        "df_clean = clean_text(df, 'text', 'text_clean')\n",
        "df_clean.head()"
      ],
      "execution_count": 87,
      "outputs": [
        {
          "output_type": "execute_result",
          "data": {
            "text/html": [
              "<div>\n",
              "<style scoped>\n",
              "    .dataframe tbody tr th:only-of-type {\n",
              "        vertical-align: middle;\n",
              "    }\n",
              "\n",
              "    .dataframe tbody tr th {\n",
              "        vertical-align: top;\n",
              "    }\n",
              "\n",
              "    .dataframe thead th {\n",
              "        text-align: right;\n",
              "    }\n",
              "</style>\n",
              "<table border=\"1\" class=\"dataframe\">\n",
              "  <thead>\n",
              "    <tr style=\"text-align: right;\">\n",
              "      <th></th>\n",
              "      <th>text</th>\n",
              "      <th>text_clean</th>\n",
              "    </tr>\n",
              "  </thead>\n",
              "  <tbody>\n",
              "    <tr>\n",
              "      <th>0</th>\n",
              "      <td>There has now been two cases so far of Thais returning from The Philippines with #COVID19 out of 961 returnees. The top 5 for most infections among returnees are:\\r\\n\\r\\n1&lt;U+FE0F&gt;&lt;U+20E3&gt; Quwait 34 out of 174 returnees\\r\\n2&lt;U+FE0F&gt;&lt;U+20E3&gt; Saudi Arabia 28/274\\r\\n3&lt;U+FE0F&gt;&lt;U+20E3&gt; Indonesia 65/913\\r\\n4&lt;U+FE0F&gt;&lt;U+20E3&gt; Pakistan 13/196\\r\\n5&lt;U+FE0F&gt;&lt;U+20E3&gt; Kazakhstan 2/55 https://t.co/Mntup4xwHi</td>\n",
              "      <td>there has now been two cases so far of thais returning from the philippines with covid out of  returnees the top  for most infections among returnees areufefue quwait  out of  returneesufefue saudi arabia ufefue indonesia ufefue pakistan ufefue kazakhstan</td>\n",
              "    </tr>\n",
              "    <tr>\n",
              "      <th>1</th>\n",
              "      <td>@LaTrioli @abcnews .Also, it has been a DISASTER for our regional and national security to ditch The Australia Network but no one seems to care.\\r\\nMy friends in Indonesia who grew up learning English from our ABC now only get free to air RUSSIAN language cartoons and RT News. That is not a \"saving\"</td>\n",
              "      <td>also it has been a disaster for our regional and national security to ditch the australia network but no one seems to caremy friends in indonesia who grew up learning english from our abc now only get free to air russian language cartoons and rt news that is not a saving</td>\n",
              "    </tr>\n",
              "    <tr>\n",
              "      <th>2</th>\n",
              "      <td>@jakpost try explaining actual impact w/ measurement of reach, impressions, audience engagement based on participants said to be from across indonesia, representing 13k islands. definitely more effective use of budget considering internet access already spreads evenly across the country.</td>\n",
              "      <td>try explaining actual impact w measurement of reach impressions audience engagement based on participants said to be from across indonesia representing k islands definitely more effective use of budget considering internet access already spreads evenly across the country</td>\n",
              "    </tr>\n",
              "    <tr>\n",
              "      <th>3</th>\n",
              "      <td>To date, 90% of Gojek’s revenue still comes from Indonesia, according to Hian Goh, co-founder of Singapore-based venture capital firm Openspace \"</td>\n",
              "      <td>to date  of gojeks revenue still comes from indonesia according to hian goh cofounder of singaporebased venture capital firm openspace</td>\n",
              "    </tr>\n",
              "    <tr>\n",
              "      <th>4</th>\n",
              "      <td>&lt;U+0001F30D&gt; Today’s the day that the amazing @GrBhamChambers team streams our first Global Trade Conference across the world from Chamber HQ. Join us &amp;amp; delegates from US,Russia, Canada,Nigeria,Indonesia,India, South Afria &amp;amp; more by emailing events@birmingham-chamber.com. #GlobalTrade2020 https://t.co/GniBzRZu4o</td>\n",
              "      <td>ufd todays the day that the amazing  team streams our first global trade conference across the world from chamber hq join us amp delegates from usrussia canadanigeriaindonesiaindia south afria amp more by emailing eventschambercom globaltrade</td>\n",
              "    </tr>\n",
              "  </tbody>\n",
              "</table>\n",
              "</div>"
            ],
            "text/plain": [
              "                                                                                                                                                                                                                                                                                                                                                                                                          text                                                                                                                                                                                                                                                                         text_clean\n",
              "0  There has now been two cases so far of Thais returning from The Philippines with #COVID19 out of 961 returnees. The top 5 for most infections among returnees are:\\r\\n\\r\\n1<U+FE0F><U+20E3> Quwait 34 out of 174 returnees\\r\\n2<U+FE0F><U+20E3> Saudi Arabia 28/274\\r\\n3<U+FE0F><U+20E3> Indonesia 65/913\\r\\n4<U+FE0F><U+20E3> Pakistan 13/196\\r\\n5<U+FE0F><U+20E3> Kazakhstan 2/55 https://t.co/Mntup4xwHi  there has now been two cases so far of thais returning from the philippines with covid out of  returnees the top  for most infections among returnees areufefue quwait  out of  returneesufefue saudi arabia ufefue indonesia ufefue pakistan ufefue kazakhstan                  \n",
              "1  @LaTrioli @abcnews .Also, it has been a DISASTER for our regional and national security to ditch The Australia Network but no one seems to care.\\r\\nMy friends in Indonesia who grew up learning English from our ABC now only get free to air RUSSIAN language cartoons and RT News. That is not a \"saving\"                                                                                                   also it has been a disaster for our regional and national security to ditch the australia network but no one seems to caremy friends in indonesia who grew up learning english from our abc now only get free to air russian language cartoons and rt news that is not a saving\n",
              "2  @jakpost try explaining actual impact w/ measurement of reach, impressions, audience engagement based on participants said to be from across indonesia, representing 13k islands. definitely more effective use of budget considering internet access already spreads evenly across the country.                                                                                                              try explaining actual impact w measurement of reach impressions audience engagement based on participants said to be from across indonesia representing k islands definitely more effective use of budget considering internet access already spreads evenly across the country \n",
              "3  To date, 90% of Gojek’s revenue still comes from Indonesia, according to Hian Goh, co-founder of Singapore-based venture capital firm Openspace \"                                                                                                                                                                                                                                                            to date  of gojeks revenue still comes from indonesia according to hian goh cofounder of singaporebased venture capital firm openspace                                                                                                                                           \n",
              "4  <U+0001F30D> Today’s the day that the amazing @GrBhamChambers team streams our first Global Trade Conference across the world from Chamber HQ. Join us &amp; delegates from US,Russia, Canada,Nigeria,Indonesia,India, South Afria &amp; more by emailing events@birmingham-chamber.com. #GlobalTrade2020 https://t.co/GniBzRZu4o                                                                            ufd todays the day that the amazing  team streams our first global trade conference across the world from chamber hq join us amp delegates from usrussia canadanigeriaindonesiaindia south afria amp more by emailing eventschambercom globaltrade                               "
            ]
          },
          "metadata": {
            "tags": []
          },
          "execution_count": 87
        }
      ]
    },
    {
      "cell_type": "markdown",
      "metadata": {
        "id": "Z4ScPxspSWgC",
        "colab_type": "text"
      },
      "source": [
        "## **Stopword**"
      ]
    },
    {
      "cell_type": "code",
      "metadata": {
        "id": "uVbjBp1W6qvq",
        "colab_type": "code",
        "colab": {
          "base_uri": "https://localhost:8080/",
          "height": 563
        },
        "outputId": "24b2b182-b3da-4f57-8975-4cefb33198d8"
      },
      "source": [
        "# Import Stopword\n",
        "import nltk.corpus\n",
        "nltk.download('stopwords')\n",
        "\n",
        "# Apply Stopword to the dataframe\n",
        "from nltk.corpus import stopwords\n",
        "stop = stopwords.words('english')\n",
        "\n",
        "df_clean['stopword'] = df_clean['text_clean'].apply(lambda x: ' '.join([word for word in x.split() if word not in (stop)]))\n",
        "df_clean.head()"
      ],
      "execution_count": 88,
      "outputs": [
        {
          "output_type": "stream",
          "text": [
            "[nltk_data] Downloading package stopwords to /root/nltk_data...\n",
            "[nltk_data]   Package stopwords is already up-to-date!\n"
          ],
          "name": "stdout"
        },
        {
          "output_type": "execute_result",
          "data": {
            "text/html": [
              "<div>\n",
              "<style scoped>\n",
              "    .dataframe tbody tr th:only-of-type {\n",
              "        vertical-align: middle;\n",
              "    }\n",
              "\n",
              "    .dataframe tbody tr th {\n",
              "        vertical-align: top;\n",
              "    }\n",
              "\n",
              "    .dataframe thead th {\n",
              "        text-align: right;\n",
              "    }\n",
              "</style>\n",
              "<table border=\"1\" class=\"dataframe\">\n",
              "  <thead>\n",
              "    <tr style=\"text-align: right;\">\n",
              "      <th></th>\n",
              "      <th>text</th>\n",
              "      <th>text_clean</th>\n",
              "      <th>stopword</th>\n",
              "    </tr>\n",
              "  </thead>\n",
              "  <tbody>\n",
              "    <tr>\n",
              "      <th>0</th>\n",
              "      <td>There has now been two cases so far of Thais returning from The Philippines with #COVID19 out of 961 returnees. The top 5 for most infections among returnees are:\\r\\n\\r\\n1&lt;U+FE0F&gt;&lt;U+20E3&gt; Quwait 34 out of 174 returnees\\r\\n2&lt;U+FE0F&gt;&lt;U+20E3&gt; Saudi Arabia 28/274\\r\\n3&lt;U+FE0F&gt;&lt;U+20E3&gt; Indonesia 65/913\\r\\n4&lt;U+FE0F&gt;&lt;U+20E3&gt; Pakistan 13/196\\r\\n5&lt;U+FE0F&gt;&lt;U+20E3&gt; Kazakhstan 2/55 https://t.co/Mntup4xwHi</td>\n",
              "      <td>there has now been two cases so far of thais returning from the philippines with covid out of  returnees the top  for most infections among returnees areufefue quwait  out of  returneesufefue saudi arabia ufefue indonesia ufefue pakistan ufefue kazakhstan</td>\n",
              "      <td>two cases far thais returning philippines covid returnees top infections among returnees areufefue quwait returneesufefue saudi arabia ufefue indonesia ufefue pakistan ufefue kazakhstan</td>\n",
              "    </tr>\n",
              "    <tr>\n",
              "      <th>1</th>\n",
              "      <td>@LaTrioli @abcnews .Also, it has been a DISASTER for our regional and national security to ditch The Australia Network but no one seems to care.\\r\\nMy friends in Indonesia who grew up learning English from our ABC now only get free to air RUSSIAN language cartoons and RT News. That is not a \"saving\"</td>\n",
              "      <td>also it has been a disaster for our regional and national security to ditch the australia network but no one seems to caremy friends in indonesia who grew up learning english from our abc now only get free to air russian language cartoons and rt news that is not a saving</td>\n",
              "      <td>also disaster regional national security ditch australia network one seems caremy friends indonesia grew learning english abc get free air russian language cartoons rt news saving</td>\n",
              "    </tr>\n",
              "    <tr>\n",
              "      <th>2</th>\n",
              "      <td>@jakpost try explaining actual impact w/ measurement of reach, impressions, audience engagement based on participants said to be from across indonesia, representing 13k islands. definitely more effective use of budget considering internet access already spreads evenly across the country.</td>\n",
              "      <td>try explaining actual impact w measurement of reach impressions audience engagement based on participants said to be from across indonesia representing k islands definitely more effective use of budget considering internet access already spreads evenly across the country</td>\n",
              "      <td>try explaining actual impact w measurement reach impressions audience engagement based participants said across indonesia representing k islands definitely effective use budget considering internet access already spreads evenly across country</td>\n",
              "    </tr>\n",
              "    <tr>\n",
              "      <th>3</th>\n",
              "      <td>To date, 90% of Gojek’s revenue still comes from Indonesia, according to Hian Goh, co-founder of Singapore-based venture capital firm Openspace \"</td>\n",
              "      <td>to date  of gojeks revenue still comes from indonesia according to hian goh cofounder of singaporebased venture capital firm openspace</td>\n",
              "      <td>date gojeks revenue still comes indonesia according hian goh cofounder singaporebased venture capital firm openspace</td>\n",
              "    </tr>\n",
              "    <tr>\n",
              "      <th>4</th>\n",
              "      <td>&lt;U+0001F30D&gt; Today’s the day that the amazing @GrBhamChambers team streams our first Global Trade Conference across the world from Chamber HQ. Join us &amp;amp; delegates from US,Russia, Canada,Nigeria,Indonesia,India, South Afria &amp;amp; more by emailing events@birmingham-chamber.com. #GlobalTrade2020 https://t.co/GniBzRZu4o</td>\n",
              "      <td>ufd todays the day that the amazing  team streams our first global trade conference across the world from chamber hq join us amp delegates from usrussia canadanigeriaindonesiaindia south afria amp more by emailing eventschambercom globaltrade</td>\n",
              "      <td>ufd todays day amazing team streams first global trade conference across world chamber hq join us amp delegates usrussia canadanigeriaindonesiaindia south afria amp emailing eventschambercom globaltrade</td>\n",
              "    </tr>\n",
              "  </tbody>\n",
              "</table>\n",
              "</div>"
            ],
            "text/plain": [
              "                                                                                                                                                                                                                                                                                                                                                                                                          text  ...                                                                                                                                                                                                                                            stopword\n",
              "0  There has now been two cases so far of Thais returning from The Philippines with #COVID19 out of 961 returnees. The top 5 for most infections among returnees are:\\r\\n\\r\\n1<U+FE0F><U+20E3> Quwait 34 out of 174 returnees\\r\\n2<U+FE0F><U+20E3> Saudi Arabia 28/274\\r\\n3<U+FE0F><U+20E3> Indonesia 65/913\\r\\n4<U+FE0F><U+20E3> Pakistan 13/196\\r\\n5<U+FE0F><U+20E3> Kazakhstan 2/55 https://t.co/Mntup4xwHi  ...  two cases far thais returning philippines covid returnees top infections among returnees areufefue quwait returneesufefue saudi arabia ufefue indonesia ufefue pakistan ufefue kazakhstan                                                         \n",
              "1  @LaTrioli @abcnews .Also, it has been a DISASTER for our regional and national security to ditch The Australia Network but no one seems to care.\\r\\nMy friends in Indonesia who grew up learning English from our ABC now only get free to air RUSSIAN language cartoons and RT News. That is not a \"saving\"                                                                                                 ...  also disaster regional national security ditch australia network one seems caremy friends indonesia grew learning english abc get free air russian language cartoons rt news saving                                                               \n",
              "2  @jakpost try explaining actual impact w/ measurement of reach, impressions, audience engagement based on participants said to be from across indonesia, representing 13k islands. definitely more effective use of budget considering internet access already spreads evenly across the country.                                                                                                             ...  try explaining actual impact w measurement reach impressions audience engagement based participants said across indonesia representing k islands definitely effective use budget considering internet access already spreads evenly across country\n",
              "3  To date, 90% of Gojek’s revenue still comes from Indonesia, according to Hian Goh, co-founder of Singapore-based venture capital firm Openspace \"                                                                                                                                                                                                                                                            ...  date gojeks revenue still comes indonesia according hian goh cofounder singaporebased venture capital firm openspace                                                                                                                              \n",
              "4  <U+0001F30D> Today’s the day that the amazing @GrBhamChambers team streams our first Global Trade Conference across the world from Chamber HQ. Join us &amp; delegates from US,Russia, Canada,Nigeria,Indonesia,India, South Afria &amp; more by emailing events@birmingham-chamber.com. #GlobalTrade2020 https://t.co/GniBzRZu4o                                                                            ...  ufd todays day amazing team streams first global trade conference across world chamber hq join us amp delegates usrussia canadanigeriaindonesiaindia south afria amp emailing eventschambercom globaltrade                                        \n",
              "\n",
              "[5 rows x 3 columns]"
            ]
          },
          "metadata": {
            "tags": []
          },
          "execution_count": 88
        }
      ]
    },
    {
      "cell_type": "markdown",
      "metadata": {
        "id": "ijBoTJcKSojo",
        "colab_type": "text"
      },
      "source": [
        "## **Tokenize**"
      ]
    },
    {
      "cell_type": "code",
      "metadata": {
        "id": "DrkxYqIL7Ebl",
        "colab_type": "code",
        "colab": {
          "base_uri": "https://localhost:8080/",
          "height": 718
        },
        "outputId": "ee6698dc-906a-4916-85f6-c9b80704a12c"
      },
      "source": [
        "# Inport Punkt\n",
        "import nltk \n",
        "nltk.download('punkt')\n",
        "\n",
        "# Tokenize\n",
        "from nltk.tokenize import sent_tokenize, word_tokenize\n",
        "df_clean['tokenize'] = df_clean['text_clean'].apply(lambda x: word_tokenize(x))\n",
        "df_clean.head()"
      ],
      "execution_count": 89,
      "outputs": [
        {
          "output_type": "stream",
          "text": [
            "[nltk_data] Downloading package punkt to /root/nltk_data...\n",
            "[nltk_data]   Package punkt is already up-to-date!\n"
          ],
          "name": "stdout"
        },
        {
          "output_type": "execute_result",
          "data": {
            "text/html": [
              "<div>\n",
              "<style scoped>\n",
              "    .dataframe tbody tr th:only-of-type {\n",
              "        vertical-align: middle;\n",
              "    }\n",
              "\n",
              "    .dataframe tbody tr th {\n",
              "        vertical-align: top;\n",
              "    }\n",
              "\n",
              "    .dataframe thead th {\n",
              "        text-align: right;\n",
              "    }\n",
              "</style>\n",
              "<table border=\"1\" class=\"dataframe\">\n",
              "  <thead>\n",
              "    <tr style=\"text-align: right;\">\n",
              "      <th></th>\n",
              "      <th>text</th>\n",
              "      <th>text_clean</th>\n",
              "      <th>stopword</th>\n",
              "      <th>tokenize</th>\n",
              "    </tr>\n",
              "  </thead>\n",
              "  <tbody>\n",
              "    <tr>\n",
              "      <th>0</th>\n",
              "      <td>There has now been two cases so far of Thais returning from The Philippines with #COVID19 out of 961 returnees. The top 5 for most infections among returnees are:\\r\\n\\r\\n1&lt;U+FE0F&gt;&lt;U+20E3&gt; Quwait 34 out of 174 returnees\\r\\n2&lt;U+FE0F&gt;&lt;U+20E3&gt; Saudi Arabia 28/274\\r\\n3&lt;U+FE0F&gt;&lt;U+20E3&gt; Indonesia 65/913\\r\\n4&lt;U+FE0F&gt;&lt;U+20E3&gt; Pakistan 13/196\\r\\n5&lt;U+FE0F&gt;&lt;U+20E3&gt; Kazakhstan 2/55 https://t.co/Mntup4xwHi</td>\n",
              "      <td>there has now been two cases so far of thais returning from the philippines with covid out of  returnees the top  for most infections among returnees areufefue quwait  out of  returneesufefue saudi arabia ufefue indonesia ufefue pakistan ufefue kazakhstan</td>\n",
              "      <td>two cases far thais returning philippines covid returnees top infections among returnees areufefue quwait returneesufefue saudi arabia ufefue indonesia ufefue pakistan ufefue kazakhstan</td>\n",
              "      <td>[there, has, now, been, two, cases, so, far, of, thais, returning, from, the, philippines, with, covid, out, of, returnees, the, top, for, most, infections, among, returnees, areufefue, quwait, out, of, returneesufefue, saudi, arabia, ufefue, indonesia, ufefue, pakistan, ufefue, kazakhstan]</td>\n",
              "    </tr>\n",
              "    <tr>\n",
              "      <th>1</th>\n",
              "      <td>@LaTrioli @abcnews .Also, it has been a DISASTER for our regional and national security to ditch The Australia Network but no one seems to care.\\r\\nMy friends in Indonesia who grew up learning English from our ABC now only get free to air RUSSIAN language cartoons and RT News. That is not a \"saving\"</td>\n",
              "      <td>also it has been a disaster for our regional and national security to ditch the australia network but no one seems to caremy friends in indonesia who grew up learning english from our abc now only get free to air russian language cartoons and rt news that is not a saving</td>\n",
              "      <td>also disaster regional national security ditch australia network one seems caremy friends indonesia grew learning english abc get free air russian language cartoons rt news saving</td>\n",
              "      <td>[also, it, has, been, a, disaster, for, our, regional, and, national, security, to, ditch, the, australia, network, but, no, one, seems, to, caremy, friends, in, indonesia, who, grew, up, learning, english, from, our, abc, now, only, get, free, to, air, russian, language, cartoons, and, rt, news, that, is, not, a, saving]</td>\n",
              "    </tr>\n",
              "    <tr>\n",
              "      <th>2</th>\n",
              "      <td>@jakpost try explaining actual impact w/ measurement of reach, impressions, audience engagement based on participants said to be from across indonesia, representing 13k islands. definitely more effective use of budget considering internet access already spreads evenly across the country.</td>\n",
              "      <td>try explaining actual impact w measurement of reach impressions audience engagement based on participants said to be from across indonesia representing k islands definitely more effective use of budget considering internet access already spreads evenly across the country</td>\n",
              "      <td>try explaining actual impact w measurement reach impressions audience engagement based participants said across indonesia representing k islands definitely effective use budget considering internet access already spreads evenly across country</td>\n",
              "      <td>[try, explaining, actual, impact, w, measurement, of, reach, impressions, audience, engagement, based, on, participants, said, to, be, from, across, indonesia, representing, k, islands, definitely, more, effective, use, of, budget, considering, internet, access, already, spreads, evenly, across, the, country]</td>\n",
              "    </tr>\n",
              "    <tr>\n",
              "      <th>3</th>\n",
              "      <td>To date, 90% of Gojek’s revenue still comes from Indonesia, according to Hian Goh, co-founder of Singapore-based venture capital firm Openspace \"</td>\n",
              "      <td>to date  of gojeks revenue still comes from indonesia according to hian goh cofounder of singaporebased venture capital firm openspace</td>\n",
              "      <td>date gojeks revenue still comes indonesia according hian goh cofounder singaporebased venture capital firm openspace</td>\n",
              "      <td>[to, date, of, gojeks, revenue, still, comes, from, indonesia, according, to, hian, goh, cofounder, of, singaporebased, venture, capital, firm, openspace]</td>\n",
              "    </tr>\n",
              "    <tr>\n",
              "      <th>4</th>\n",
              "      <td>&lt;U+0001F30D&gt; Today’s the day that the amazing @GrBhamChambers team streams our first Global Trade Conference across the world from Chamber HQ. Join us &amp;amp; delegates from US,Russia, Canada,Nigeria,Indonesia,India, South Afria &amp;amp; more by emailing events@birmingham-chamber.com. #GlobalTrade2020 https://t.co/GniBzRZu4o</td>\n",
              "      <td>ufd todays the day that the amazing  team streams our first global trade conference across the world from chamber hq join us amp delegates from usrussia canadanigeriaindonesiaindia south afria amp more by emailing eventschambercom globaltrade</td>\n",
              "      <td>ufd todays day amazing team streams first global trade conference across world chamber hq join us amp delegates usrussia canadanigeriaindonesiaindia south afria amp emailing eventschambercom globaltrade</td>\n",
              "      <td>[ufd, todays, the, day, that, the, amazing, team, streams, our, first, global, trade, conference, across, the, world, from, chamber, hq, join, us, amp, delegates, from, usrussia, canadanigeriaindonesiaindia, south, afria, amp, more, by, emailing, eventschambercom, globaltrade]</td>\n",
              "    </tr>\n",
              "  </tbody>\n",
              "</table>\n",
              "</div>"
            ],
            "text/plain": [
              "                                                                                                                                                                                                                                                                                                                                                                                                          text  ...                                                                                                                                                                                                                                                                                                                             tokenize\n",
              "0  There has now been two cases so far of Thais returning from The Philippines with #COVID19 out of 961 returnees. The top 5 for most infections among returnees are:\\r\\n\\r\\n1<U+FE0F><U+20E3> Quwait 34 out of 174 returnees\\r\\n2<U+FE0F><U+20E3> Saudi Arabia 28/274\\r\\n3<U+FE0F><U+20E3> Indonesia 65/913\\r\\n4<U+FE0F><U+20E3> Pakistan 13/196\\r\\n5<U+FE0F><U+20E3> Kazakhstan 2/55 https://t.co/Mntup4xwHi  ...  [there, has, now, been, two, cases, so, far, of, thais, returning, from, the, philippines, with, covid, out, of, returnees, the, top, for, most, infections, among, returnees, areufefue, quwait, out, of, returneesufefue, saudi, arabia, ufefue, indonesia, ufefue, pakistan, ufefue, kazakhstan]                                \n",
              "1  @LaTrioli @abcnews .Also, it has been a DISASTER for our regional and national security to ditch The Australia Network but no one seems to care.\\r\\nMy friends in Indonesia who grew up learning English from our ABC now only get free to air RUSSIAN language cartoons and RT News. That is not a \"saving\"                                                                                                 ...  [also, it, has, been, a, disaster, for, our, regional, and, national, security, to, ditch, the, australia, network, but, no, one, seems, to, caremy, friends, in, indonesia, who, grew, up, learning, english, from, our, abc, now, only, get, free, to, air, russian, language, cartoons, and, rt, news, that, is, not, a, saving]\n",
              "2  @jakpost try explaining actual impact w/ measurement of reach, impressions, audience engagement based on participants said to be from across indonesia, representing 13k islands. definitely more effective use of budget considering internet access already spreads evenly across the country.                                                                                                             ...  [try, explaining, actual, impact, w, measurement, of, reach, impressions, audience, engagement, based, on, participants, said, to, be, from, across, indonesia, representing, k, islands, definitely, more, effective, use, of, budget, considering, internet, access, already, spreads, evenly, across, the, country]             \n",
              "3  To date, 90% of Gojek’s revenue still comes from Indonesia, according to Hian Goh, co-founder of Singapore-based venture capital firm Openspace \"                                                                                                                                                                                                                                                            ...  [to, date, of, gojeks, revenue, still, comes, from, indonesia, according, to, hian, goh, cofounder, of, singaporebased, venture, capital, firm, openspace]                                                                                                                                                                         \n",
              "4  <U+0001F30D> Today’s the day that the amazing @GrBhamChambers team streams our first Global Trade Conference across the world from Chamber HQ. Join us &amp; delegates from US,Russia, Canada,Nigeria,Indonesia,India, South Afria &amp; more by emailing events@birmingham-chamber.com. #GlobalTrade2020 https://t.co/GniBzRZu4o                                                                            ...  [ufd, todays, the, day, that, the, amazing, team, streams, our, first, global, trade, conference, across, the, world, from, chamber, hq, join, us, amp, delegates, from, usrussia, canadanigeriaindonesiaindia, south, afria, amp, more, by, emailing, eventschambercom, globaltrade]                                              \n",
              "\n",
              "[5 rows x 4 columns]"
            ]
          },
          "metadata": {
            "tags": []
          },
          "execution_count": 89
        }
      ]
    },
    {
      "cell_type": "markdown",
      "metadata": {
        "id": "L3v5Y_CVS9VK",
        "colab_type": "text"
      },
      "source": [
        "## **Stemming**"
      ]
    },
    {
      "cell_type": "code",
      "metadata": {
        "id": "Otx2dKbB7OPS",
        "colab_type": "code",
        "colab": {
          "base_uri": "https://localhost:8080/",
          "height": 613
        },
        "outputId": "fffd7208-fc69-4a78-8551-eb1735212ec1"
      },
      "source": [
        "# Import Stemmer\n",
        "from nltk.stem import PorterStemmer \n",
        "from nltk.tokenize import word_tokenize\n",
        "\n",
        "# Create Stemmer Function\n",
        "def word_stemmer(text):\n",
        "    stem_text = [PorterStemmer().stem(i) for i in text]\n",
        "    return stem_text\n",
        "\n",
        "# Apply to the dataframe\n",
        "df_clean['stemming'] = df_clean['tokenize'].apply(lambda x: word_stemmer(x))\n",
        "data_clean.head()"
      ],
      "execution_count": 90,
      "outputs": [
        {
          "output_type": "execute_result",
          "data": {
            "text/html": [
              "<div>\n",
              "<style scoped>\n",
              "    .dataframe tbody tr th:only-of-type {\n",
              "        vertical-align: middle;\n",
              "    }\n",
              "\n",
              "    .dataframe tbody tr th {\n",
              "        vertical-align: top;\n",
              "    }\n",
              "\n",
              "    .dataframe thead th {\n",
              "        text-align: right;\n",
              "    }\n",
              "</style>\n",
              "<table border=\"1\" class=\"dataframe\">\n",
              "  <thead>\n",
              "    <tr style=\"text-align: right;\">\n",
              "      <th></th>\n",
              "      <th>text</th>\n",
              "      <th>text_clean</th>\n",
              "      <th>text_tokens</th>\n",
              "      <th>text_tokens_lemma</th>\n",
              "    </tr>\n",
              "  </thead>\n",
              "  <tbody>\n",
              "    <tr>\n",
              "      <th>0</th>\n",
              "      <td>There has now been two cases so far of Thais returning from The Philippines with #COVID19 out of 961 returnees. The top 5 for most infections among returnees are:\\r\\n\\r\\n1&lt;U+FE0F&gt;&lt;U+20E3&gt; Quwait 34 out of 174 returnees\\r\\n2&lt;U+FE0F&gt;&lt;U+20E3&gt; Saudi Arabia 28/274\\r\\n3&lt;U+FE0F&gt;&lt;U+20E3&gt; Indonesia 65/913\\r\\n4&lt;U+FE0F&gt;&lt;U+20E3&gt; Pakistan 13/196\\r\\n5&lt;U+FE0F&gt;&lt;U+20E3&gt; Kazakhstan 2/55 https://t.co/Mntup4xwHi</td>\n",
              "      <td>two cases far thais returning philippines covid returnees top infections among returnees areufefue quwait returneesufefue saudi arabia ufefue indonesia ufefue pakistan ufefue kazakhstan</td>\n",
              "      <td>[two, cases, far, thais, returning, philippines, covid, returnees, top, infections, among, returnees, areufefue, quwait, returneesufefue, saudi, arabia, ufefue, indonesia, ufefue, pakistan, ufefue, kazakhstan]</td>\n",
              "      <td>[two, case, far, thai, returning, philippine, covid, returnees, top, infection, among, returnees, areufefue, quwait, returneesufefue, saudi, arabia, ufefue, indonesia, ufefue, pakistan, ufefue, kazakhstan]</td>\n",
              "    </tr>\n",
              "    <tr>\n",
              "      <th>1</th>\n",
              "      <td>@LaTrioli @abcnews .Also, it has been a DISASTER for our regional and national security to ditch The Australia Network but no one seems to care.\\r\\nMy friends in Indonesia who grew up learning English from our ABC now only get free to air RUSSIAN language cartoons and RT News. That is not a \"saving\"</td>\n",
              "      <td>also disaster regional national security ditch australia network one seems caremy friends indonesia grew learning english abc get free air russian language cartoons rt news saving</td>\n",
              "      <td>[also, disaster, regional, national, security, ditch, australia, network, one, seems, caremy, friends, indonesia, grew, learning, english, abc, get, free, air, russian, language, cartoons, rt, news, saving]</td>\n",
              "      <td>[also, disaster, regional, national, security, ditch, australia, network, one, seems, caremy, friend, indonesia, grew, learning, english, abc, get, free, air, russian, language, cartoon, rt, news, saving]</td>\n",
              "    </tr>\n",
              "    <tr>\n",
              "      <th>2</th>\n",
              "      <td>@jakpost try explaining actual impact w/ measurement of reach, impressions, audience engagement based on participants said to be from across indonesia, representing 13k islands. definitely more effective use of budget considering internet access already spreads evenly across the country.</td>\n",
              "      <td>try explaining actual impact w measurement reach impressions audience engagement based participants said across indonesia representing k islands definitely effective use budget considering internet access already spreads evenly across country</td>\n",
              "      <td>[try, explaining, actual, impact, w, measurement, reach, impressions, audience, engagement, based, participants, said, across, indonesia, representing, k, islands, definitely, effective, use, budget, considering, internet, access, already, spreads, evenly, across, country]</td>\n",
              "      <td>[try, explaining, actual, impact, w, measurement, reach, impression, audience, engagement, based, participant, said, across, indonesia, representing, k, island, definitely, effective, use, budget, considering, internet, access, already, spread, evenly, across, country]</td>\n",
              "    </tr>\n",
              "    <tr>\n",
              "      <th>3</th>\n",
              "      <td>To date, 90% of Gojek’s revenue still comes from Indonesia, according to Hian Goh, co-founder of Singapore-based venture capital firm Openspace \"</td>\n",
              "      <td>date gojeks revenue still comes indonesia according hian goh cofounder singaporebased venture capital firm openspace</td>\n",
              "      <td>[date, gojeks, revenue, still, comes, indonesia, according, hian, goh, cofounder, singaporebased, venture, capital, firm, openspace]</td>\n",
              "      <td>[date, gojeks, revenue, still, come, indonesia, according, hian, goh, cofounder, singaporebased, venture, capital, firm, openspace]</td>\n",
              "    </tr>\n",
              "    <tr>\n",
              "      <th>4</th>\n",
              "      <td>&lt;U+0001F30D&gt; Today’s the day that the amazing @GrBhamChambers team streams our first Global Trade Conference across the world from Chamber HQ. Join us &amp;amp; delegates from US,Russia, Canada,Nigeria,Indonesia,India, South Afria &amp;amp; more by emailing events@birmingham-chamber.com. #GlobalTrade2020 https://t.co/GniBzRZu4o</td>\n",
              "      <td>ufd todays day amazing team streams first global trade conference across world chamber hq join us amp delegates usrussia canadanigeriaindonesiaindia south afria amp emailing eventschambercom globaltrade</td>\n",
              "      <td>[ufd, todays, day, amazing, team, streams, first, global, trade, conference, across, world, chamber, hq, join, us, amp, delegates, usrussia, canadanigeriaindonesiaindia, south, afria, amp, emailing, eventschambercom, globaltrade]</td>\n",
              "      <td>[ufd, today, day, amazing, team, stream, first, global, trade, conference, across, world, chamber, hq, join, u, amp, delegate, usrussia, canadanigeriaindonesiaindia, south, afria, amp, emailing, eventschambercom, globaltrade]</td>\n",
              "    </tr>\n",
              "  </tbody>\n",
              "</table>\n",
              "</div>"
            ],
            "text/plain": [
              "                                                                                                                                                                                                                                                                                                                                                                                                          text  ...                                                                                                                                                                                                                                                              text_tokens_lemma\n",
              "0  There has now been two cases so far of Thais returning from The Philippines with #COVID19 out of 961 returnees. The top 5 for most infections among returnees are:\\r\\n\\r\\n1<U+FE0F><U+20E3> Quwait 34 out of 174 returnees\\r\\n2<U+FE0F><U+20E3> Saudi Arabia 28/274\\r\\n3<U+FE0F><U+20E3> Indonesia 65/913\\r\\n4<U+FE0F><U+20E3> Pakistan 13/196\\r\\n5<U+FE0F><U+20E3> Kazakhstan 2/55 https://t.co/Mntup4xwHi  ...  [two, case, far, thai, returning, philippine, covid, returnees, top, infection, among, returnees, areufefue, quwait, returneesufefue, saudi, arabia, ufefue, indonesia, ufefue, pakistan, ufefue, kazakhstan]                                                                \n",
              "1  @LaTrioli @abcnews .Also, it has been a DISASTER for our regional and national security to ditch The Australia Network but no one seems to care.\\r\\nMy friends in Indonesia who grew up learning English from our ABC now only get free to air RUSSIAN language cartoons and RT News. That is not a \"saving\"                                                                                                 ...  [also, disaster, regional, national, security, ditch, australia, network, one, seems, caremy, friend, indonesia, grew, learning, english, abc, get, free, air, russian, language, cartoon, rt, news, saving]                                                                 \n",
              "2  @jakpost try explaining actual impact w/ measurement of reach, impressions, audience engagement based on participants said to be from across indonesia, representing 13k islands. definitely more effective use of budget considering internet access already spreads evenly across the country.                                                                                                             ...  [try, explaining, actual, impact, w, measurement, reach, impression, audience, engagement, based, participant, said, across, indonesia, representing, k, island, definitely, effective, use, budget, considering, internet, access, already, spread, evenly, across, country]\n",
              "3  To date, 90% of Gojek’s revenue still comes from Indonesia, according to Hian Goh, co-founder of Singapore-based venture capital firm Openspace \"                                                                                                                                                                                                                                                            ...  [date, gojeks, revenue, still, come, indonesia, according, hian, goh, cofounder, singaporebased, venture, capital, firm, openspace]                                                                                                                                          \n",
              "4  <U+0001F30D> Today’s the day that the amazing @GrBhamChambers team streams our first Global Trade Conference across the world from Chamber HQ. Join us &amp; delegates from US,Russia, Canada,Nigeria,Indonesia,India, South Afria &amp; more by emailing events@birmingham-chamber.com. #GlobalTrade2020 https://t.co/GniBzRZu4o                                                                            ...  [ufd, today, day, amazing, team, stream, first, global, trade, conference, across, world, chamber, hq, join, u, amp, delegate, usrussia, canadanigeriaindonesiaindia, south, afria, amp, emailing, eventschambercom, globaltrade]                                            \n",
              "\n",
              "[5 rows x 4 columns]"
            ]
          },
          "metadata": {
            "tags": []
          },
          "execution_count": 90
        }
      ]
    },
    {
      "cell_type": "markdown",
      "metadata": {
        "id": "upSjs2JXTOHh",
        "colab_type": "text"
      },
      "source": [
        "## **Lemmatization**"
      ]
    },
    {
      "cell_type": "code",
      "metadata": {
        "id": "1rGYrO_l7aAc",
        "colab_type": "code",
        "colab": {
          "base_uri": "https://localhost:8080/",
          "height": 995
        },
        "outputId": "f05669b3-0600-4fd7-ac04-c89db5414f86"
      },
      "source": [
        "# Import Wordnet Library\n",
        "nltk.download('wordnet')\n",
        "from nltk.stem import WordNetLemmatizer\n",
        "\n",
        "# Create Lematization Funtion\n",
        "def word_lemmatizer(text):\n",
        "    lem_text = [WordNetLemmatizer().lemmatize(i, pos='v') for i in text]\n",
        "    return lem_text\n",
        "\n",
        "# Apply to a dataframe\n",
        "df_clean['lemmatization'] = df_clean['tokenize'].apply(lambda x: word_lemmatizer(x))\n",
        "df_clean.tail()"
      ],
      "execution_count": 99,
      "outputs": [
        {
          "output_type": "stream",
          "text": [
            "[nltk_data] Downloading package wordnet to /root/nltk_data...\n",
            "[nltk_data]   Package wordnet is already up-to-date!\n"
          ],
          "name": "stdout"
        },
        {
          "output_type": "execute_result",
          "data": {
            "text/html": [
              "<div>\n",
              "<style scoped>\n",
              "    .dataframe tbody tr th:only-of-type {\n",
              "        vertical-align: middle;\n",
              "    }\n",
              "\n",
              "    .dataframe tbody tr th {\n",
              "        vertical-align: top;\n",
              "    }\n",
              "\n",
              "    .dataframe thead th {\n",
              "        text-align: right;\n",
              "    }\n",
              "</style>\n",
              "<table border=\"1\" class=\"dataframe\">\n",
              "  <thead>\n",
              "    <tr style=\"text-align: right;\">\n",
              "      <th></th>\n",
              "      <th>text</th>\n",
              "      <th>text_clean</th>\n",
              "      <th>stopword</th>\n",
              "      <th>tokenize</th>\n",
              "      <th>stemming</th>\n",
              "      <th>lemmatization</th>\n",
              "    </tr>\n",
              "  </thead>\n",
              "  <tbody>\n",
              "    <tr>\n",
              "      <th>23502</th>\n",
              "      <td>Presenting passionate stories of revolution, identity, agency, forgiveness, and exclusion, MARTIN SCORSESE'S WORLD CINEMA PROJECT NO. 3 gathers 6 masterpieces from from Brazil, Cuba, Indonesia, Iran, Mauritania, &amp;amp; Mexico. Each title is a pathbreaking contribution to the art form. https://t.co/bX3jji85pY</td>\n",
              "      <td>presenting passionate stories of revolution identity agency forgiveness and exclusion martin scorseses world cinema project no  gathers  masterpieces from from brazil cuba indonesia iran mauritania amp mexico each title is a pathbreaking contribution to the art form</td>\n",
              "      <td>presenting passionate stories revolution identity agency forgiveness exclusion martin scorseses world cinema project gathers masterpieces brazil cuba indonesia iran mauritania amp mexico title pathbreaking contribution art form</td>\n",
              "      <td>[presenting, passionate, stories, of, revolution, identity, agency, forgiveness, and, exclusion, martin, scorseses, world, cinema, project, no, gathers, masterpieces, from, from, brazil, cuba, indonesia, iran, mauritania, amp, mexico, each, title, is, a, pathbreaking, contribution, to, the, art, form]</td>\n",
              "      <td>[present, passion, stori, of, revolut, ident, agenc, forgiv, and, exclus, martin, scorses, world, cinema, project, no, gather, masterpiec, from, from, brazil, cuba, indonesia, iran, mauritania, amp, mexico, each, titl, is, a, pathbreak, contribut, to, the, art, form]</td>\n",
              "      <td>[present, passionate, stories, of, revolution, identity, agency, forgiveness, and, exclusion, martin, scorseses, world, cinema, project, no, gather, masterpieces, from, from, brazil, cuba, indonesia, iran, mauritania, amp, mexico, each, title, be, a, pathbreaking, contribution, to, the, art, form]</td>\n",
              "    </tr>\n",
              "    <tr>\n",
              "      <th>23503</th>\n",
              "      <td>Presenting passionate stories of revolution, identity, agency, forgiveness, and exclusion, MARTIN SCORSESE'S WORLD CINEMA PROJECT NO. 3 gathers 6 masterpieces from from Brazil, Cuba, Indonesia, Iran, Mauritania, &amp;amp; Mexico. Each title is a pathbreaking contribution to the art form. https://t.co/bX3jji85pY</td>\n",
              "      <td>presenting passionate stories of revolution identity agency forgiveness and exclusion martin scorseses world cinema project no  gathers  masterpieces from from brazil cuba indonesia iran mauritania amp mexico each title is a pathbreaking contribution to the art form</td>\n",
              "      <td>presenting passionate stories revolution identity agency forgiveness exclusion martin scorseses world cinema project gathers masterpieces brazil cuba indonesia iran mauritania amp mexico title pathbreaking contribution art form</td>\n",
              "      <td>[presenting, passionate, stories, of, revolution, identity, agency, forgiveness, and, exclusion, martin, scorseses, world, cinema, project, no, gathers, masterpieces, from, from, brazil, cuba, indonesia, iran, mauritania, amp, mexico, each, title, is, a, pathbreaking, contribution, to, the, art, form]</td>\n",
              "      <td>[present, passion, stori, of, revolut, ident, agenc, forgiv, and, exclus, martin, scorses, world, cinema, project, no, gather, masterpiec, from, from, brazil, cuba, indonesia, iran, mauritania, amp, mexico, each, titl, is, a, pathbreak, contribut, to, the, art, form]</td>\n",
              "      <td>[present, passionate, stories, of, revolution, identity, agency, forgiveness, and, exclusion, martin, scorseses, world, cinema, project, no, gather, masterpieces, from, from, brazil, cuba, indonesia, iran, mauritania, amp, mexico, each, title, be, a, pathbreaking, contribution, to, the, art, form]</td>\n",
              "    </tr>\n",
              "    <tr>\n",
              "      <th>23504</th>\n",
              "      <td>YOURE TELLING ME AN ACTUAL JUDGE FROM MASTERCHEF INDONESIA JUST PLACED AN ORDER FOR TEN SKZ ALBUMS ???? I CANT BREATHE</td>\n",
              "      <td>youre telling me an actual judge from masterchef indonesia just placed an order for ten skz albums  i cant breathe</td>\n",
              "      <td>youre telling actual judge masterchef indonesia placed order ten skz albums cant breathe</td>\n",
              "      <td>[youre, telling, me, an, actual, judge, from, masterchef, indonesia, just, placed, an, order, for, ten, skz, albums, i, cant, breathe]</td>\n",
              "      <td>[your, tell, me, an, actual, judg, from, masterchef, indonesia, just, place, an, order, for, ten, skz, album, i, cant, breath]</td>\n",
              "      <td>[youre, tell, me, an, actual, judge, from, masterchef, indonesia, just, place, an, order, for, ten, skz, albums, i, cant, breathe]</td>\n",
              "    </tr>\n",
              "    <tr>\n",
              "      <th>23505</th>\n",
              "      <td>Presenting passionate stories of revolution, identity, agency, forgiveness, and exclusion, MARTIN SCORSESE'S WORLD CINEMA PROJECT NO. 3 gathers 6 masterpieces from from Brazil, Cuba, Indonesia, Iran, Mauritania, &amp;amp; Mexico. Each title is a pathbreaking contribution to the art form. https://t.co/bX3jji85pY</td>\n",
              "      <td>presenting passionate stories of revolution identity agency forgiveness and exclusion martin scorseses world cinema project no  gathers  masterpieces from from brazil cuba indonesia iran mauritania amp mexico each title is a pathbreaking contribution to the art form</td>\n",
              "      <td>presenting passionate stories revolution identity agency forgiveness exclusion martin scorseses world cinema project gathers masterpieces brazil cuba indonesia iran mauritania amp mexico title pathbreaking contribution art form</td>\n",
              "      <td>[presenting, passionate, stories, of, revolution, identity, agency, forgiveness, and, exclusion, martin, scorseses, world, cinema, project, no, gathers, masterpieces, from, from, brazil, cuba, indonesia, iran, mauritania, amp, mexico, each, title, is, a, pathbreaking, contribution, to, the, art, form]</td>\n",
              "      <td>[present, passion, stori, of, revolut, ident, agenc, forgiv, and, exclus, martin, scorses, world, cinema, project, no, gather, masterpiec, from, from, brazil, cuba, indonesia, iran, mauritania, amp, mexico, each, titl, is, a, pathbreak, contribut, to, the, art, form]</td>\n",
              "      <td>[present, passionate, stories, of, revolution, identity, agency, forgiveness, and, exclusion, martin, scorseses, world, cinema, project, no, gather, masterpieces, from, from, brazil, cuba, indonesia, iran, mauritania, amp, mexico, each, title, be, a, pathbreaking, contribution, to, the, art, form]</td>\n",
              "    </tr>\n",
              "    <tr>\n",
              "      <th>23506</th>\n",
              "      <td>Presenting passionate stories of revolution, identity, agency, forgiveness, and exclusion, MARTIN SCORSESE'S WORLD CINEMA PROJECT NO. 3 gathers 6 masterpieces from from Brazil, Cuba, Indonesia, Iran, Mauritania, &amp;amp; Mexico. Each title is a pathbreaking contribution to the art form. https://t.co/bX3jji85pY</td>\n",
              "      <td>presenting passionate stories of revolution identity agency forgiveness and exclusion martin scorseses world cinema project no  gathers  masterpieces from from brazil cuba indonesia iran mauritania amp mexico each title is a pathbreaking contribution to the art form</td>\n",
              "      <td>presenting passionate stories revolution identity agency forgiveness exclusion martin scorseses world cinema project gathers masterpieces brazil cuba indonesia iran mauritania amp mexico title pathbreaking contribution art form</td>\n",
              "      <td>[presenting, passionate, stories, of, revolution, identity, agency, forgiveness, and, exclusion, martin, scorseses, world, cinema, project, no, gathers, masterpieces, from, from, brazil, cuba, indonesia, iran, mauritania, amp, mexico, each, title, is, a, pathbreaking, contribution, to, the, art, form]</td>\n",
              "      <td>[present, passion, stori, of, revolut, ident, agenc, forgiv, and, exclus, martin, scorses, world, cinema, project, no, gather, masterpiec, from, from, brazil, cuba, indonesia, iran, mauritania, amp, mexico, each, titl, is, a, pathbreak, contribut, to, the, art, form]</td>\n",
              "      <td>[present, passionate, stories, of, revolution, identity, agency, forgiveness, and, exclusion, martin, scorseses, world, cinema, project, no, gather, masterpieces, from, from, brazil, cuba, indonesia, iran, mauritania, amp, mexico, each, title, be, a, pathbreaking, contribution, to, the, art, form]</td>\n",
              "    </tr>\n",
              "  </tbody>\n",
              "</table>\n",
              "</div>"
            ],
            "text/plain": [
              "                                                                                                                                                                                                                                                                                                                       text  ...                                                                                                                                                                                                                                                                                               lemmatization\n",
              "23502  Presenting passionate stories of revolution, identity, agency, forgiveness, and exclusion, MARTIN SCORSESE'S WORLD CINEMA PROJECT NO. 3 gathers 6 masterpieces from from Brazil, Cuba, Indonesia, Iran, Mauritania, &amp; Mexico. Each title is a pathbreaking contribution to the art form. https://t.co/bX3jji85pY  ...  [present, passionate, stories, of, revolution, identity, agency, forgiveness, and, exclusion, martin, scorseses, world, cinema, project, no, gather, masterpieces, from, from, brazil, cuba, indonesia, iran, mauritania, amp, mexico, each, title, be, a, pathbreaking, contribution, to, the, art, form]\n",
              "23503  Presenting passionate stories of revolution, identity, agency, forgiveness, and exclusion, MARTIN SCORSESE'S WORLD CINEMA PROJECT NO. 3 gathers 6 masterpieces from from Brazil, Cuba, Indonesia, Iran, Mauritania, &amp; Mexico. Each title is a pathbreaking contribution to the art form. https://t.co/bX3jji85pY  ...  [present, passionate, stories, of, revolution, identity, agency, forgiveness, and, exclusion, martin, scorseses, world, cinema, project, no, gather, masterpieces, from, from, brazil, cuba, indonesia, iran, mauritania, amp, mexico, each, title, be, a, pathbreaking, contribution, to, the, art, form]\n",
              "23504  YOURE TELLING ME AN ACTUAL JUDGE FROM MASTERCHEF INDONESIA JUST PLACED AN ORDER FOR TEN SKZ ALBUMS ???? I CANT BREATHE                                                                                                                                                                                                ...  [youre, tell, me, an, actual, judge, from, masterchef, indonesia, just, place, an, order, for, ten, skz, albums, i, cant, breathe]                                                                                                                                                                        \n",
              "23505  Presenting passionate stories of revolution, identity, agency, forgiveness, and exclusion, MARTIN SCORSESE'S WORLD CINEMA PROJECT NO. 3 gathers 6 masterpieces from from Brazil, Cuba, Indonesia, Iran, Mauritania, &amp; Mexico. Each title is a pathbreaking contribution to the art form. https://t.co/bX3jji85pY  ...  [present, passionate, stories, of, revolution, identity, agency, forgiveness, and, exclusion, martin, scorseses, world, cinema, project, no, gather, masterpieces, from, from, brazil, cuba, indonesia, iran, mauritania, amp, mexico, each, title, be, a, pathbreaking, contribution, to, the, art, form]\n",
              "23506  Presenting passionate stories of revolution, identity, agency, forgiveness, and exclusion, MARTIN SCORSESE'S WORLD CINEMA PROJECT NO. 3 gathers 6 masterpieces from from Brazil, Cuba, Indonesia, Iran, Mauritania, &amp; Mexico. Each title is a pathbreaking contribution to the art form. https://t.co/bX3jji85pY  ...  [present, passionate, stories, of, revolution, identity, agency, forgiveness, and, exclusion, martin, scorseses, world, cinema, project, no, gather, masterpieces, from, from, brazil, cuba, indonesia, iran, mauritania, amp, mexico, each, title, be, a, pathbreaking, contribution, to, the, art, form]\n",
              "\n",
              "[5 rows x 6 columns]"
            ]
          },
          "metadata": {
            "tags": []
          },
          "execution_count": 99
        }
      ]
    },
    {
      "cell_type": "code",
      "metadata": {
        "id": "RnwAgH5WVrNl",
        "colab_type": "code",
        "colab": {
          "base_uri": "https://localhost:8080/",
          "height": 267
        },
        "outputId": "fa771cf3-ce11-48a6-e9d5-5ba52e932af0"
      },
      "source": [
        "# Do some fix\n",
        "df_join = df_clean['lemmatization'].str.join(\",\") \n",
        "df_final = df_join.str.replace(',', ' ', regex=False)\n",
        "df_final = pd.DataFrame(df_final)\n",
        "df_final.rename(columns={'lemmatization': 'text'}, inplace = True)\n",
        "df_final.head()"
      ],
      "execution_count": 140,
      "outputs": [
        {
          "output_type": "execute_result",
          "data": {
            "text/html": [
              "<div>\n",
              "<style scoped>\n",
              "    .dataframe tbody tr th:only-of-type {\n",
              "        vertical-align: middle;\n",
              "    }\n",
              "\n",
              "    .dataframe tbody tr th {\n",
              "        vertical-align: top;\n",
              "    }\n",
              "\n",
              "    .dataframe thead th {\n",
              "        text-align: right;\n",
              "    }\n",
              "</style>\n",
              "<table border=\"1\" class=\"dataframe\">\n",
              "  <thead>\n",
              "    <tr style=\"text-align: right;\">\n",
              "      <th></th>\n",
              "      <th>text</th>\n",
              "    </tr>\n",
              "  </thead>\n",
              "  <tbody>\n",
              "    <tr>\n",
              "      <th>0</th>\n",
              "      <td>there have now be two case so far of thais return from the philippines with covid out of returnees the top for most infections among returnees areufefue quwait out of returneesufefue saudi arabia ufefue indonesia ufefue pakistan ufefue kazakhstan</td>\n",
              "    </tr>\n",
              "    <tr>\n",
              "      <th>1</th>\n",
              "      <td>also it have be a disaster for our regional and national security to ditch the australia network but no one seem to caremy friends in indonesia who grow up learn english from our abc now only get free to air russian language cartoon and rt news that be not a save</td>\n",
              "    </tr>\n",
              "    <tr>\n",
              "      <th>2</th>\n",
              "      <td>try explain actual impact w measurement of reach impressions audience engagement base on participants say to be from across indonesia represent k islands definitely more effective use of budget consider internet access already spread evenly across the country</td>\n",
              "    </tr>\n",
              "    <tr>\n",
              "      <th>3</th>\n",
              "      <td>to date of gojeks revenue still come from indonesia accord to hian goh cofounder of singaporebased venture capital firm openspace</td>\n",
              "    </tr>\n",
              "    <tr>\n",
              "      <th>4</th>\n",
              "      <td>ufd todays the day that the amaze team stream our first global trade conference across the world from chamber hq join us amp delegate from usrussia canadanigeriaindonesiaindia south afria amp more by email eventschambercom globaltrade</td>\n",
              "    </tr>\n",
              "  </tbody>\n",
              "</table>\n",
              "</div>"
            ],
            "text/plain": [
              "                                                                                                                                                                                                                                                                      text\n",
              "0  there have now be two case so far of thais return from the philippines with covid out of returnees the top for most infections among returnees areufefue quwait out of returneesufefue saudi arabia ufefue indonesia ufefue pakistan ufefue kazakhstan                 \n",
              "1  also it have be a disaster for our regional and national security to ditch the australia network but no one seem to caremy friends in indonesia who grow up learn english from our abc now only get free to air russian language cartoon and rt news that be not a save\n",
              "2  try explain actual impact w measurement of reach impressions audience engagement base on participants say to be from across indonesia represent k islands definitely more effective use of budget consider internet access already spread evenly across the country    \n",
              "3  to date of gojeks revenue still come from indonesia accord to hian goh cofounder of singaporebased venture capital firm openspace                                                                                                                                      \n",
              "4  ufd todays the day that the amaze team stream our first global trade conference across the world from chamber hq join us amp delegate from usrussia canadanigeriaindonesiaindia south afria amp more by email eventschambercom globaltrade                             "
            ]
          },
          "metadata": {
            "tags": []
          },
          "execution_count": 140
        }
      ]
    },
    {
      "cell_type": "code",
      "metadata": {
        "id": "KnLfiZyyZQGH",
        "colab_type": "code",
        "colab": {}
      },
      "source": [
        "# Save as CSV\n",
        "df_final.to_csv('clean.csv', index=False)"
      ],
      "execution_count": 143,
      "outputs": []
    },
    {
      "cell_type": "code",
      "metadata": {
        "id": "db6o6n-qceNY",
        "colab_type": "code",
        "colab": {}
      },
      "source": [
        ""
      ],
      "execution_count": null,
      "outputs": []
    }
  ]
}
